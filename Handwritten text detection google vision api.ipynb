{
 "cells": [
  {
   "cell_type": "code",
   "execution_count": 1,
   "metadata": {},
   "outputs": [],
   "source": [
    "# importing required libraries\n",
    "import os, io\n",
    "import pandas as pd\n",
    "from google.cloud import vision\n",
    "from google.cloud import vision_v1"
   ]
  },
  {
   "cell_type": "code",
   "execution_count": 2,
   "metadata": {},
   "outputs": [],
   "source": [
    "# calling up google vision json file\n",
    "os.environ['GOOGLE_APPLICATION_CREDENTIALS'] = r'C:/Users/HP/google cloud/vision api/Google vision API test-8a0999498f6f.json'"
   ]
  },
  {
   "cell_type": "code",
   "execution_count": 3,
   "metadata": {},
   "outputs": [],
   "source": [
    "# initiate a client\n",
    "client = vision.ImageAnnotatorClient()"
   ]
  },
  {
   "cell_type": "code",
   "execution_count": 4,
   "metadata": {},
   "outputs": [],
   "source": [
    "# setting up required path\n",
    "folder_path = r'F:/Mayur/ANALYTICS/Data scientist/Google cloud/'\n",
    "image_path = 'sample_text2.jpg'\n",
    "file_path = os.path.join(folder_path,image_path)"
   ]
  },
  {
   "cell_type": "code",
   "execution_count": 5,
   "metadata": {},
   "outputs": [],
   "source": [
    "# load image into memory\n",
    "with io.open(file_path,'rb') as image_file:\n",
    "    file_content = image_file.read()"
   ]
  },
  {
   "cell_type": "code",
   "execution_count": 6,
   "metadata": {},
   "outputs": [],
   "source": [
    "# perform text detection from the image\n",
    "image_detail = vision.Image(content=file_content)\n",
    "response = client.document_text_detection(image=image_detail)"
   ]
  },
  {
   "cell_type": "code",
   "execution_count": 7,
   "metadata": {},
   "outputs": [
    {
     "name": "stdout",
     "output_type": "stream",
     "text": [
      "Work hard in silence,\n",
      "let Success make the noise\n",
      "work hard in silence,\n",
      "let success make the noise\n",
      "let it\n",
      "go,\n",
      "Mshade Mblade\n",
      "MS gade\n",
      "\n"
     ]
    }
   ],
   "source": [
    "# print text from the dcoment\n",
    "doctext = response.full_text_annotation.text\n",
    "print(doctext)"
   ]
  },
  {
   "cell_type": "code",
   "execution_count": 8,
   "metadata": {},
   "outputs": [
    {
     "name": "stdout",
     "output_type": "stream",
     "text": [
      "block confidence: 0.949999988079071\n",
      "paragraph confidence: 0.9700000286102295\n",
      "word_text: Work , confidence: 0.9399999976158142\n",
      "word_text: hard , confidence: 0.9800000190734863\n",
      "word_text: in , confidence: 0.9900000095367432\n",
      "word_text: silence , confidence: 0.9800000190734863\n",
      "word_text: , , confidence: 0.8700000047683716\n",
      "paragraph confidence: 0.949999988079071\n",
      "word_text: let , confidence: 0.9900000095367432\n",
      "word_text: Success , confidence: 0.8899999856948853\n",
      "word_text: make , confidence: 0.9200000166893005\n",
      "word_text: the , confidence: 0.9900000095367432\n",
      "word_text: noise , confidence: 0.9900000095367432\n",
      "block confidence: 0.9599999785423279\n",
      "paragraph confidence: 0.9399999976158142\n",
      "word_text: work , confidence: 0.8700000047683716\n",
      "word_text: hard , confidence: 0.9700000286102295\n",
      "word_text: in , confidence: 0.9900000095367432\n",
      "word_text: silence , confidence: 0.9599999785423279\n",
      "word_text: , , confidence: 0.7900000214576721\n",
      "paragraph confidence: 0.9800000190734863\n",
      "word_text: let , confidence: 0.9900000095367432\n",
      "word_text: success , confidence: 0.9800000190734863\n",
      "word_text: make , confidence: 0.9800000190734863\n",
      "word_text: the , confidence: 1.0\n",
      "word_text: noise , confidence: 0.9900000095367432\n",
      "block confidence: 0.9900000095367432\n",
      "paragraph confidence: 0.9900000095367432\n",
      "word_text: let , confidence: 0.9900000095367432\n",
      "word_text: it , confidence: 0.9900000095367432\n",
      "block confidence: 0.8899999856948853\n",
      "paragraph confidence: 0.8899999856948853\n",
      "word_text: go , confidence: 0.9900000095367432\n",
      "word_text: , , confidence: 0.699999988079071\n",
      "block confidence: 0.7400000095367432\n",
      "paragraph confidence: 0.7400000095367432\n",
      "word_text: Mshade , confidence: 0.7599999904632568\n",
      "word_text: Mblade , confidence: 0.7300000190734863\n",
      "block confidence: 0.9399999976158142\n",
      "paragraph confidence: 0.9399999976158142\n",
      "word_text: MS , confidence: 0.9599999785423279\n",
      "word_text: gade , confidence: 0.9300000071525574\n"
     ]
    }
   ],
   "source": [
    "# review the confidence of text extraction\n",
    "pages = response.full_text_annotation.pages\n",
    "for page in pages:\n",
    "    for block in page.blocks:\n",
    "        print('block confidence:',block.confidence)\n",
    "    \n",
    "        for paragraph in block.paragraphs:\n",
    "            print('paragraph confidence:',paragraph.confidence)\n",
    "            \n",
    "            for word in paragraph.words:\n",
    "                word_text = ''.join([symbol.text for symbol in word.symbols])\n",
    "                print('word_text: {0} , confidence: {1}'.format(word_text,word.confidence))"
   ]
  },
  {
   "cell_type": "code",
   "execution_count": null,
   "metadata": {},
   "outputs": [],
   "source": []
  }
 ],
 "metadata": {
  "kernelspec": {
   "display_name": "Python 3",
   "language": "python",
   "name": "python3"
  },
  "language_info": {
   "codemirror_mode": {
    "name": "ipython",
    "version": 3
   },
   "file_extension": ".py",
   "mimetype": "text/x-python",
   "name": "python",
   "nbconvert_exporter": "python",
   "pygments_lexer": "ipython3",
   "version": "3.7.6"
  }
 },
 "nbformat": 4,
 "nbformat_minor": 4
}
